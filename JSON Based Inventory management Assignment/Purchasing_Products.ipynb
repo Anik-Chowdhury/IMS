{
 "cells": [
  {
   "cell_type": "markdown",
   "metadata": {
    "id": "R6NHgAYkxqSl"
   },
   "source": [
    "## Read Inventory"
   ]
  },
  {
   "cell_type": "code",
   "execution_count": 21,
   "metadata": {
    "id": "jkJT24jqug9n"
   },
   "outputs": [],
   "source": [
    "import json\n",
    "\n",
    "fd = open(\"record.json\",'r')\n",
    "r = fd.read()\n",
    "fd.close()\n",
    "\n",
    "records = json.loads(r)\n"
   ]
  },
  {
   "cell_type": "code",
   "execution_count": 22,
   "metadata": {
    "colab": {
     "base_uri": "https://localhost:8080/"
    },
    "id": "CcLYokrlus6z",
    "outputId": "525ffebc-7e32-463b-b0a4-2e6e9fc73f7c"
   },
   "outputs": [
    {
     "data": {
      "text/plain": [
       "{'1001': {'name': 'Choco Cake',\n",
       "  'Exp': '21/10/2021',\n",
       "  'Net amount': '2 lb',\n",
       "  'qn': 84,\n",
       "  'pr': 100},\n",
       " '1002': {'name': 'Milk Cake',\n",
       "  'Exp': '22/12/2021',\n",
       "  'Net amount': '2 lb',\n",
       "  'qn': 116,\n",
       "  'pr': 800},\n",
       " '1003': {'name': 'Drink',\n",
       "  'Exp': '11/10/2021',\n",
       "  'Net amount': '500 ml',\n",
       "  'qn': 105,\n",
       "  'pr': 85},\n",
       " '1004': {'name': 'Candy',\n",
       "  'Exp': '21/12/2021',\n",
       "  'Net amount': '5 mg',\n",
       "  'qn': 999,\n",
       "  'pr': 5},\n",
       " '1005': {'name': 'Pen',\n",
       "  'Exp': '21/11/2022',\n",
       "  'Net amount': '5 mg',\n",
       "  'qn': 98,\n",
       "  'pr': 20},\n",
       " '1006': {'name': 'Cereals',\n",
       "  'Exp': '21/12/2021',\n",
       "  'Net amount': '1 kg',\n",
       "  'qn': 10,\n",
       "  'pr': 500},\n",
       " '1007': {'name': 'Mic',\n",
       "  'Exp': '21/12/2021',\n",
       "  'Net amount': '1 kg',\n",
       "  'qn': 0,\n",
       "  'pr': 1500},\n",
       " '1008': {'name': 'Case',\n",
       "  'Exp': '21/12/2021',\n",
       "  'Net amount': '2 kg',\n",
       "  'qn': 3,\n",
       "  'pr': 599},\n",
       " '1009': {'name': 'Cake',\n",
       "  'Exp': '11/9/2021',\n",
       "  'Net amount': '2 lb',\n",
       "  'qn': 31,\n",
       "  'pr': 100},\n",
       " '1010': {'name': 'milk',\n",
       "  'Exp': '22/12/2021',\n",
       "  'Net amount': '1 l.',\n",
       "  'qn': 30,\n",
       "  'pr': 60},\n",
       " '1011': {'name': 'Choco',\n",
       "  'Exp': '21/12/2022',\n",
       "  'Net amount': '1 lb',\n",
       "  'qn': 34,\n",
       "  'pr': 100},\n",
       " '1012': {'name': 'KitKat',\n",
       "  'Exp': '21/12/2021',\n",
       "  'Net amount': '5 g',\n",
       "  'qn': 40,\n",
       "  'pr': 25},\n",
       " '1013': {'name': 'Dairymilk',\n",
       "  'Exp': '3/12/2021',\n",
       "  'Net amount': '5 g',\n",
       "  'qn': 34,\n",
       "  'pr': 25},\n",
       " '1014': {'name': 'Nescafe',\n",
       "  'Exp': '21/12/2021',\n",
       "  'Net amount': '50 g',\n",
       "  'qn': 33,\n",
       "  'pr': 160},\n",
       " '1015': {'name': 'Oreo',\n",
       "  'Exp': '21/10/2021',\n",
       "  'Net amount': '50 g',\n",
       "  'qn': 35,\n",
       "  'pr': 100},\n",
       " '1016': {'name': 'Redbull',\n",
       "  'Exp': '2/12/2021',\n",
       "  'Net amount': '250 ml',\n",
       "  'qn': 34,\n",
       "  'pr': 160},\n",
       " '1017': {'name': 'coca-cola',\n",
       "  'Exp': '21/12/2021',\n",
       "  'Net amount': '250 ml',\n",
       "  'qn': 100,\n",
       "  'pr': 15},\n",
       " '1018': {'name': 'Sprite',\n",
       "  'Exp': '1/2/2022',\n",
       "  'Net amount': '250 ml',\n",
       "  'qn': 34,\n",
       "  'pr': 20},\n",
       " '1019': {'name': '7up',\n",
       "  'Exp': '21/02/2022',\n",
       "  'Net amount': '250 ml',\n",
       "  'qn': 34,\n",
       "  'pr': 15},\n",
       " '1020': {'name': 'Pepsi',\n",
       "  'Exp': '21/11/2021',\n",
       "  'Net amount': '250 ml',\n",
       "  'qn': 34,\n",
       "  'pr': 15},\n",
       " '1021': {'name': 'Fanta',\n",
       "  'Exp': '21/12/2021',\n",
       "  'Net amount': '250 ml',\n",
       "  'qn': 31,\n",
       "  'pr': 15},\n",
       " '1022': {'name': 'Budweiser beer',\n",
       "  'Exp': '21/12/2021',\n",
       "  'Net amount': '250 ml',\n",
       "  'qn': 32,\n",
       "  'pr': 400},\n",
       " '1023': {'name': 'Bread',\n",
       "  'Exp': '21/12/2021',\n",
       "  'Net amount': '50 g',\n",
       "  'qn': 33,\n",
       "  'pr': 100},\n",
       " '1024': {'name': 'Flour',\n",
       "  'Exp': '21/12/2022',\n",
       "  'Net amount': '1 kg',\n",
       "  'qn': 32,\n",
       "  'pr': 30},\n",
       " '1025': {'name': 'Hand sanitizer',\n",
       "  'Exp': '21/11/2021',\n",
       "  'Net amount': '250 ml',\n",
       "  'qn': 33,\n",
       "  'pr': 100},\n",
       " '1026': {'name': 'Mask',\n",
       "  'Exp': '21/12/2021',\n",
       "  'Net amount': '1 g',\n",
       "  'qn': 32,\n",
       "  'pr': 5},\n",
       " '1027': {'name': 'Choco milk',\n",
       "  'Exp': '21/12/2021',\n",
       "  'Net amount': '250 ml',\n",
       "  'qn': 33,\n",
       "  'pr': 100},\n",
       " '1028': {'name': 'Choco Biscuit',\n",
       "  'Exp': '21/06/2022',\n",
       "  'Net amount': '500 g',\n",
       "  'qn': 34,\n",
       "  'pr': 100},\n",
       " '1029': {'name': 'Ring pop',\n",
       "  'Exp': '13/12/2022',\n",
       "  'Net amount': '1 kg',\n",
       "  'qn': 10,\n",
       "  'pr': 1000},\n",
       " '1030': {'name': 'Rice',\n",
       "  'Exp': '21/12/2024',\n",
       "  'Net amount': '1 kg',\n",
       "  'qn': 18,\n",
       "  'pr': 100}}"
      ]
     },
     "execution_count": 22,
     "metadata": {},
     "output_type": "execute_result"
    }
   ],
   "source": [
    "records"
   ]
  },
  {
   "cell_type": "markdown",
   "metadata": {
    "id": "WI5f7HTuxwzb"
   },
   "source": [
    "# Purchase"
   ]
  },
  {
   "cell_type": "code",
   "execution_count": null,
   "metadata": {
    "colab": {
     "base_uri": "https://localhost:8080/"
    },
    "id": "c4E4eIvyuth0",
    "outputId": "91896933-af33-4e3e-ad2b-478c1243c6a3"
   },
   "outputs": [
    {
     "name": "stdout",
     "output_type": "stream",
     "text": [
      "Enter the product_Id: 1013\n",
      "Enter the quantity: 1\n",
      "Do you want to purchase another product?(Y/N)y\n",
      "Enter the product_Id: 1030\n",
      "Enter the quantity: 1\n"
     ]
    }
   ],
   "source": [
    "import datetime\n",
    "\n",
    "user_prod=[]\n",
    "user_quant=[]\n",
    "\n",
    "def purchase():\n",
    "    ui_prod  = str(input(\"Enter the product_Id: \"))\n",
    "    ui_quant = int(input(\"Enter the quantity: \"))\n",
    "    if ui_prod not in records.keys():\n",
    "        print(\"This product doesn't exist in our inventory\")\n",
    "        another=input(\"Do you want to purchase another product?(Y/N)\")\n",
    "        if another==\"Y\" or another==\"y\" or another ==\"Yes\" or another==\"yes\":\n",
    "            return(purchase())\n",
    "        else:\n",
    "            pass\n",
    "    elif records[ui_prod]['qn']==0:\n",
    "        print(\"This product isn't available right now in our inventory\")\n",
    "        another=input(\"Do you want to purchase another product?(Y/N)\")\n",
    "        if another==\"Y\" or another==\"y\" or another ==\"Yes\" or another==\"yes\":\n",
    "            return(purchase())\n",
    "        else:\n",
    "            pass\n",
    "    else:\n",
    "        if ui_quant > records[ui_prod][\"qn\"]:\n",
    "            print(\"Sorry sir, we have total\",records[ui_prod][\"qn\"],\"unit/units of this product.\")\n",
    "            another=input(\"Do you want to purchase another product?(y/n)\")\n",
    "            if another==\"Y\" or another==\"y\" or another ==\"Yes\" or another==\"yes\":\n",
    "                return(purchase())\n",
    "            else:\n",
    "                pass\n",
    "        else:\n",
    "            user_prod.append(ui_prod)\n",
    "            user_quant.append(ui_quant)\n",
    "            another=input(\"Do you want to purchase another product?(Y/N)\")\n",
    "            if another==\"Y\" or another==\"y\" or another ==\"Yes\" or another==\"yes\":\n",
    "                return(purchase())\n",
    "            else:\n",
    "                pass\n",
    "purchase()\n",
    "        \n",
    "billing_amount=0\n",
    "print(120*\"-\"+\"\\n\")\n",
    "print(\"You're billing info:\\n\")\n",
    "for i in range(len(user_prod)):  \n",
    "    print(\"Product: \", records[user_prod[i]]['name'],\"\\t EXP: \",records[user_prod[i]]['Exp'],\"\\t Quantity:\",user_quant[i],\"\\t Price:\",records[user_prod[i]]['pr'],\"rupee\\t Total Price: \", int(records[user_prod[i]]['pr']*int(user_quant[i])),\"rupee\")\n",
    "    billing_amount+=int(records[user_prod[i]]['pr'])* int(user_quant[i])\n",
    "    records[user_prod[i]]['qn'] -= user_quant[i]\n",
    "print(\"\\nBilling Amount: \",billing_amount,\"rupee \\n\")\n",
    "print(\"Date: \",datetime.date.today().strftime(\"%d-%m-%Y\"),\"\\t\\t\\t\\t\\t\",\"Time:\",datetime.datetime.now().strftime(\"%H:%M:%S\"),\"\\n\")\n",
    "\n",
    "print(120*\"-\")\n"
   ]
  },
  {
   "cell_type": "markdown",
   "metadata": {
    "id": "3h8S8JBVx1_D"
   },
   "source": [
    "#### Update Inventory after purchase"
   ]
  },
  {
   "cell_type": "code",
   "execution_count": 19,
   "metadata": {
    "id": "TO68fUvvwzXt"
   },
   "outputs": [],
   "source": [
    "js = json.dumps(records)\n",
    "\n",
    "fd = open(\"record.json\",'w')\n",
    "fd.write(js)\n",
    "fd.close()"
   ]
  },
  {
   "cell_type": "markdown",
   "metadata": {
    "id": "pl_p5yDpyu_9"
   },
   "source": [
    "## Sales JSON"
   ]
  },
  {
   "cell_type": "code",
   "execution_count": 20,
   "metadata": {},
   "outputs": [],
   "source": [
    "try:\n",
    "    fs = open(\"sales.json\",'r')\n",
    "    rr = fs.read()\n",
    "    fs.close()\n",
    "\n",
    "    sales = json.loads(rr)\n",
    "    key=sales.keys()\n",
    "    maximum=int(max(key))\n",
    "    transid=maximum+1\n",
    "\n",
    "    sales[transid]={\"Time\":str(datetime.datetime.now()),'prod' : user_prod, 'qn' : user_quant, 'amount': billing_amount}\n",
    "    sale = json.dumps(sales)\n",
    "    fs = open(\"sales.json\",'w')\n",
    "    fs.write(sale)\n",
    "    fs.close() \n",
    "except:\n",
    "    transid=1111\n",
    "    sales={transid:{\"Time\":str(datetime.datetime.now()),'prod' : user_prod, 'qn' : user_quant, 'amount': billing_amount}}\n",
    "    sale = json.dumps(sales)\n",
    "    fs = open(\"sales.json\",'w')\n",
    "    fs.write(sale)\n",
    "    fs.close() \n"
   ]
  },
  {
   "cell_type": "code",
   "execution_count": null,
   "metadata": {},
   "outputs": [],
   "source": []
  }
 ],
 "metadata": {
  "colab": {
   "name": "Purchasing Products",
   "provenance": []
  },
  "kernelspec": {
   "display_name": "Python 3",
   "language": "python",
   "name": "python3"
  },
  "language_info": {
   "codemirror_mode": {
    "name": "ipython",
    "version": 3
   },
   "file_extension": ".py",
   "mimetype": "text/x-python",
   "name": "python",
   "nbconvert_exporter": "python",
   "pygments_lexer": "ipython3",
   "version": "3.7.6"
  }
 },
 "nbformat": 4,
 "nbformat_minor": 1
}
